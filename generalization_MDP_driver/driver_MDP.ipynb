{
 "cells": [
  {
   "cell_type": "code",
   "execution_count": 2,
   "metadata": {},
   "outputs": [],
   "source": [
    "import numpy as np \n",
    "import scipy.io as sio\n",
    "import glob \n",
    "\n"
   ]
  },
  {
   "cell_type": "code",
   "execution_count": 3,
   "metadata": {},
   "outputs": [],
   "source": [
    "driving_cycle_paths = glob.glob(\"../data/driving_cycles/all/*.mat\")"
   ]
  },
  {
   "cell_type": "code",
   "execution_count": 4,
   "metadata": {},
   "outputs": [],
   "source": [
    "def get_min_max(driving_cycle_paths):\n",
    "    v_max = 0 \n",
    "    v_diff_min = 0 \n",
    "    v_diff_max = 0 \n",
    "    \n",
    "    for cycle_path in driving_cycle_paths: \n",
    "        drv_cycle = sio.loadmat(cycle_path)\n",
    "        v_veh = drv_cycle[\"sch_cycle\"][:, 1]\n",
    "        v_diff_veh = np.diff(v_veh)\n",
    "        \n",
    "        for v in v_veh: \n",
    "            if v > v_max: \n",
    "                v_max = v \n",
    "        \n",
    "        for v_diff in v_diff_veh: \n",
    "            if v_diff > v_diff_max: \n",
    "                v_diff_max = v_diff \n",
    "            if v_diff < v_diff_min: \n",
    "                v_diff_min = v_diff \n",
    "                \n",
    "    return v_max, v_diff_min, v_diff_max "
   ]
  },
  {
   "cell_type": "code",
   "execution_count": 9,
   "metadata": {},
   "outputs": [
    {
     "name": "stdout",
     "output_type": "stream",
     "text": [
      "33.349183999999994 -4.088888888888889 4.088888888888889\n"
     ]
    }
   ],
   "source": [
    "v_max, v_diff_min, v_diff_max = get_min_max(driving_cycle_paths)\n",
    "\n",
    "v_diff_min = - v_diff_max \n",
    "\n",
    "print(v_max, v_diff_min, v_diff_max)\n",
    "\n"
   ]
  },
  {
   "cell_type": "code",
   "execution_count": 10,
   "metadata": {},
   "outputs": [
    {
     "name": "stdout",
     "output_type": "stream",
     "text": [
      "[-4.08888889 -3.68       -3.27111111 -2.86222222 -2.45333333 -2.04444444\n",
      " -1.63555556 -1.22666667 -0.81777778 -0.40888889  0.          0.40888889\n",
      "  0.81777778  1.22666667  1.63555556  2.04444444  2.45333333  2.86222222\n",
      "  3.27111111  3.68        4.08888889]\n"
     ]
    }
   ],
   "source": [
    "v_grid_num = 20  \n",
    "a_grid_num = 20 \n",
    "\n",
    "v_grid = np.linspace(0, v_max, v_grid_num + 1) \n",
    "a_grid = np.linspace(v_diff_min, v_diff_max, a_grid_num + 1)\n",
    "\n",
    "\n",
    "\n",
    "print(a_grid)"
   ]
  },
  {
   "cell_type": "code",
   "execution_count": 11,
   "metadata": {},
   "outputs": [],
   "source": [
    "def get_indices(v, a, v_grid, a_grid):\n",
    "    for i in range(len(v_grid) - 1): \n",
    "        if v_grid[i] <= v < v_grid[i+1]: \n",
    "            break \n",
    "    \n",
    "    for j in range(len(a_grid) - 1): \n",
    "        if a_grid[j] <= a < a_grid[j+1]: \n",
    "            break\n",
    "            \n",
    "    return i, j \n",
    "            \n",
    "    "
   ]
  },
  {
   "cell_type": "code",
   "execution_count": 13,
   "metadata": {},
   "outputs": [],
   "source": [
    "def get_transition_matrix(driving_cycle_paths, v_grid, a_grid): \n",
    "    transition_matrix = np.zeros((v_grid_num, a_grid_num))\n",
    "    \n",
    "    for cycle_path in driving_cycle_paths: \n",
    "        drv_cycle = sio.loadmat(cycle_path)\n",
    "        v_veh = drv_cycle[\"sch_cycle\"][:, 1]\n",
    "        \n",
    "        for t in range(len(v_veh)-1):\n",
    "            v = v_veh[t]\n",
    "            a = v_veh[t+1] - v_veh[t]\n",
    "            \n",
    "            i, j = get_indices(v, a, v_grid, a_grid)\n",
    "            transition_matrix[i, j] += 1 \n",
    "            \n",
    "    return transition_matrix \n",
    "            \n",
    "\n",
    "transition_matrix = get_transition_matrix(driving_cycle_paths, v_grid, a_grid)"
   ]
  },
  {
   "cell_type": "code",
   "execution_count": 20,
   "metadata": {},
   "outputs": [],
   "source": [
    "transition_prob_matrix = np.zeros_like(transition_matrix)\n",
    "\n",
    "for i in range(len(transition_matrix)): \n",
    "    state_sum = np.sum(transition_matrix[i]) \n",
    "    state_prob = transition_matrix[i] / state_sum \n",
    "    \n",
    "    transition_prob_matrix[i] = state_prob \n",
    "#     print(sum(state_prob))\n",
    "    \n",
    "# print(transition_prob_matrix)"
   ]
  },
  {
   "cell_type": "markdown",
   "metadata": {},
   "source": [
    "# transition matrix로 speed profile 만들기 "
   ]
  },
  {
   "cell_type": "code",
   "execution_count": null,
   "metadata": {},
   "outputs": [],
   "source": []
  },
  {
   "cell_type": "code",
   "execution_count": null,
   "metadata": {},
   "outputs": [],
   "source": []
  },
  {
   "cell_type": "code",
   "execution_count": null,
   "metadata": {},
   "outputs": [],
   "source": []
  },
  {
   "cell_type": "code",
   "execution_count": null,
   "metadata": {},
   "outputs": [],
   "source": []
  }
 ],
 "metadata": {
  "kernelspec": {
   "display_name": "Python 3",
   "language": "python",
   "name": "python3"
  },
  "language_info": {
   "codemirror_mode": {
    "name": "ipython",
    "version": 3
   },
   "file_extension": ".py",
   "mimetype": "text/x-python",
   "name": "python",
   "nbconvert_exporter": "python",
   "pygments_lexer": "ipython3",
   "version": "3.6.10"
  }
 },
 "nbformat": 4,
 "nbformat_minor": 4
}
